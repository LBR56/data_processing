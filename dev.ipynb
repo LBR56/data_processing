{
 "cells": [
  {
   "cell_type": "code",
   "execution_count": 1,
   "metadata": {},
   "outputs": [],
   "source": [
    "from selenium.webdriver.common.by import By\n",
    "from urllib.request import urlretrieve\n",
    "from selenium import webdriver\n",
    "import pandas as pd\n",
    "import datetime\n",
    "import json\n",
    "import cv2\n",
    "import os"
   ]
  },
  {
   "cell_type": "code",
   "execution_count": null,
   "metadata": {},
   "outputs": [],
   "source": [
    "if not os.path.exists('data'):\n",
    "    os.mkdir('data')\n",
    "    os.mkdir('data/car')\n",
    "    os.mkdir('data/car/crop')\n",
    "    os.mkdir('data/car/msk')\n",
    "    os.mkdir('data/carNumber')\n",
    "    os.mkdir('data/carNumber/crop')\n",
    "    os.mkdir('data/carNumber/msk')\n",
    "    os.mkdir('data/crawling')\n",
    "    os.mkdir('data/json')"
   ]
  },
  {
   "cell_type": "code",
   "execution_count": 2,
   "metadata": {},
   "outputs": [],
   "source": [
    "chrome_options = webdriver.ChromeOptions()\n",
    "chrome_options.add_argument(\"--headless\")\n",
    "chrome_options.add_argument('--no-sandbox')\n",
    "chrome_options.add_argument('--disable-dev-shm-usage')\n",
    "\n",
    "url_main = \"https://auto.danawa.com/usedcar/?Work=list&Tab=classify&Page=\"\n",
    "\n",
    "driver = webdriver.Chrome(options=chrome_options)\n",
    "\n",
    "dicts = {\n",
    "    'car_name':[], \n",
    "    'car_number':[],\n",
    "    'car_img':[],\n",
    "}"
   ]
  },
  {
   "cell_type": "code",
   "execution_count": 3,
   "metadata": {},
   "outputs": [],
   "source": [
    "for page_num in range(1, 3):\n",
    "    driver.get(url_main + str(page_num))\n",
    "    driver.implicitly_wait(5)\n",
    "    cars_info = driver.find_elements(By.CSS_SELECTOR, 'div.col.info')[1:]\n",
    "\n",
    "    for idx, car in enumerate(cars_info):\n",
    "        dicts['car_name'].append(car.find_element(By.CSS_SELECTOR, 'a.name').text)\n",
    "        dicts['car_number'].append(car.find_elements(By.CSS_SELECTOR, 'span')[-1].text)\n",
    "\n",
    "        img_src = car.find_element(By.CSS_SELECTOR, 'img').get_attribute('src')\n",
    "        img_path = f\"data/crawling/img_crawling_{datetime.datetime.now().strftime('%Y%m%d%H%M%S%f')}.jpg\"\n",
    "        urlretrieve(img_src, img_path)\n",
    "        dicts['car_img'].append(img_path)\n",
    "driver.quit()"
   ]
  },
  {
   "cell_type": "code",
   "execution_count": 4,
   "metadata": {},
   "outputs": [],
   "source": [
    "img_path = sorted(os.listdir('data/crawling/'))\n",
    "json_path = sorted(os.listdir('data/json/'))\n",
    "\n",
    "for path in img_path:\n",
    "    json_file_name = f\"{path.split('_')[-1].split('.')[0]}.json\"\n",
    "    if json_file_name not in json_path:\n",
    "        with open(\"data/json/\" + json_file_name, 'w') as f:\n",
    "            json.dump({\"result\":False}, f)\n"
   ]
  },
  {
   "attachments": {},
   "cell_type": "markdown",
   "metadata": {},
   "source": [
    "# 이미지 처리"
   ]
  },
  {
   "cell_type": "code",
   "execution_count": 19,
   "metadata": {},
   "outputs": [],
   "source": [
    "is_drawing = False\n",
    "\n",
    "task_type = ''\n",
    "item_type = ['car', 'carNumber']\n",
    "\n",
    "file_point = 0\n",
    "item_point = 0"
   ]
  },
  {
   "cell_type": "code",
   "execution_count": 20,
   "metadata": {},
   "outputs": [],
   "source": [
    "def get_task_type(key):\n",
    "    task2key = {\n",
    "        'q':'item_left', 'Q':'item_left',\n",
    "        'e':'item_right', 'E':'item_right',\n",
    "        'a':'left', 'A':'left',\n",
    "        'd':'right', 'D':'right',\n",
    "        'x':'exit', 'X':'exit',\n",
    "    }\n",
    "    return task2key[chr(key)] if chr(key) in task2key else ''"
   ]
  },
  {
   "cell_type": "code",
   "execution_count": 21,
   "metadata": {},
   "outputs": [],
   "source": [
    "def load_json(file_point):\n",
    "    with open(\"data/json/\" + json_path[file_point], 'r') as f:\n",
    "        return json.load(f) "
   ]
  },
  {
   "cell_type": "code",
   "execution_count": 22,
   "metadata": {},
   "outputs": [],
   "source": [
    "def save_json(dict_total, file_point):\n",
    "    with open(\"data/json/\" + json_path[file_point], 'w') as f:\n",
    "        return json.dump(dict_total, f) "
   ]
  },
  {
   "cell_type": "code",
   "execution_count": 23,
   "metadata": {},
   "outputs": [],
   "source": [
    "json_path = sorted(os.listdir('data/json/'))\n",
    "dict_total = load_json(file_point)"
   ]
  },
  {
   "cell_type": "code",
   "execution_count": 24,
   "metadata": {},
   "outputs": [],
   "source": [
    "def draw_object(img, objs):\n",
    "    for obj in objs:\n",
    "        item_type = obj['type']\n",
    "        pt1 = [obj['x1'], obj['y1']]\n",
    "        pt2 = [obj['x2'], obj['y2']]\n",
    "        \n",
    "        cv2.rectangle(img, pt1, pt2, (item_type * 255, 0, 0))"
   ]
  },
  {
   "cell_type": "code",
   "execution_count": 25,
   "metadata": {},
   "outputs": [],
   "source": [
    "def add_object(dict_total, obj):\n",
    "    if 'data' in dict_total:\n",
    "        idx = len(dict_total['data'])\n",
    "    else:\n",
    "        dict_total['data'] = []\n",
    "        idx = 0\n",
    "        \n",
    "    obj['id'] = idx\n",
    "    dict_total['data'].append(obj)"
   ]
  },
  {
   "cell_type": "code",
   "execution_count": 26,
   "metadata": {},
   "outputs": [],
   "source": [
    "import numpy as np\n",
    "def crop_object(obj):\n",
    "    global img, json_path, file_point, item_type\n",
    "    x1, x2, y1, y2 = obj['x1'], obj['x2'], obj['y1'], obj['y2']\n",
    "    idx = obj['id']\n",
    "    item_name = item_type[obj['type']]\n",
    "\n",
    "    img_temp = img[y1:y2,x1:x2,:]\n",
    "    cv2.imwrite(f\"data/{item_name}/crop/{json_path[file_point].split('.')[0]}_{idx}.jpg\", img_temp)\n",
    "\n",
    "    img_temp = np.zeros(img.shape)\n",
    "    img_temp = img_temp[y1:y2,x1:x2,:]\n",
    "    cv2.imwrite(f\"data/{item_name}/msk/{json_path[file_point].split('.')[0]}_{idx}.jpg\", img_temp)"
   ]
  },
  {
   "cell_type": "code",
   "execution_count": 27,
   "metadata": {},
   "outputs": [],
   "source": [
    "def mouse_crop(event, x, y, flags, param):\n",
    "    global is_drawing, pt1, pt2, dict_total, file_point, item_point\n",
    "\n",
    "    if event == cv2.EVENT_LBUTTONDOWN:\n",
    "        is_drawing = True\n",
    "        pt1, pt2 = (x, y), (x, y)\n",
    "    elif event == cv2.EVENT_MOUSEMOVE:\n",
    "        if is_drawing is True:\n",
    "            pt2 = (x, y)\n",
    "    elif event == cv2.EVENT_LBUTTONUP:\n",
    "        is_drawing = False\n",
    "\n",
    "        obj = {}\n",
    "        # refactorying 필요\n",
    "        xs = sorted([pt1[0], pt2[0]])\n",
    "        ys = sorted([pt1[1], pt2[1]])\n",
    "\n",
    "        obj['x1'], obj['x2'], obj['y1'], obj['y2'] = (xs[0], xs[1], ys[0], ys[1])\n",
    "        obj['type'] = item_point\n",
    "        add_object(dict_total, obj)\n",
    "        \n",
    "        dict_total['result'] = True\n",
    "\n",
    "        crop_object(obj)\n",
    "\n",
    "        save_json(dict_total, file_point)\n",
    "        "
   ]
  },
  {
   "cell_type": "code",
   "execution_count": 28,
   "metadata": {},
   "outputs": [],
   "source": [
    "# 무한 반복\n",
    "windows_name = 'img'\n",
    "cv2.namedWindow(windows_name, flags=cv2.WINDOW_NORMAL)\n",
    "cv2.resizeWindow(windows_name, 800, 600)\n",
    "cv2.createTrackbar(\"img_num\", windows_name, 0, len(img_path) - 1, lambda x:x)\n",
    "cv2.setTrackbarPos(\"img_num\", windows_name, 0)\n",
    "cv2.createTrackbar(\"item_type\", windows_name, 0, len(item_type) - 1, lambda x:x)\n",
    "cv2.setTrackbarPos(\"item_type\", windows_name, 0)\n",
    "cv2.setMouseCallback(\"img\", mouse_crop)\n",
    "\n",
    "dict_total = load_json(file_point)\n",
    "while True:\n",
    "    # 이미지 초기화\n",
    "    img = cv2.imread('data/crawling/' + img_path[file_point])\n",
    "\n",
    "    # # 기존 파일 출력\n",
    "    if 'data' in dict_total:\n",
    "        draw_object(img, dict_total['data'])\n",
    "        \n",
    "    # 현재 만드는 파일 출력\n",
    "    if is_drawing is True:\n",
    "        cv2.rectangle(img, pt1, pt2, 255)\n",
    "\n",
    "    cv2.imshow(windows_name, img)\n",
    "    \n",
    "    file_point = cv2.getTrackbarPos(\"img_num\", windows_name)\n",
    "    item_point = cv2.getTrackbarPos(\"item_type\", windows_name)\n",
    "    key = cv2.waitKey(1) & 0xFF\n",
    "\n",
    "    # 크롭중이 아니면, 테스크 확인\n",
    "    if is_drawing is False:\n",
    "        task_type = get_task_type(key)\n",
    "        \n",
    "    if task_type == 'exit':\n",
    "        break\n",
    "    elif task_type == 'left':\n",
    "        if file_point != 0:\n",
    "            cv2.setTrackbarPos(\"img_num\", windows_name, file_point - 1)\n",
    "            save_json(dict_total, file_point)\n",
    "            dict_total = load_json(file_point - 1)\n",
    "    elif task_type == 'right':\n",
    "        if file_point != len(img_path) - 1:\n",
    "            cv2.setTrackbarPos(\"img_num\", windows_name, file_point + 1)\n",
    "            save_json(dict_total, file_point)\n",
    "            dict_total = load_json(file_point + 1)\n",
    "            \n",
    "    elif task_type == 'item_left':\n",
    "        if item_point != 0:\n",
    "            cv2.setTrackbarPos(\"item_type\", windows_name, item_point - 1)\n",
    "            \n",
    "    elif task_type == 'item_right':\n",
    "        if item_point != len(item_type) - 1:\n",
    "            cv2.setTrackbarPos(\"item_type\", windows_name, item_point + 1)\n",
    "            \n",
    "    task_type = ''\n",
    "\n",
    "cv2.destroyAllWindows()"
   ]
  }
 ],
 "metadata": {
  "kernelspec": {
   "display_name": "venv",
   "language": "python",
   "name": "python3"
  },
  "language_info": {
   "codemirror_mode": {
    "name": "ipython",
    "version": 3
   },
   "file_extension": ".py",
   "mimetype": "text/x-python",
   "name": "python",
   "nbconvert_exporter": "python",
   "pygments_lexer": "ipython3",
   "version": "3.10.10"
  },
  "orig_nbformat": 4,
  "vscode": {
   "interpreter": {
    "hash": "bbe8df0b9e857c174d3f87a1f6be8632e6925d2cbdc11179d0ebe985fbf50617"
   }
  }
 },
 "nbformat": 4,
 "nbformat_minor": 2
}
